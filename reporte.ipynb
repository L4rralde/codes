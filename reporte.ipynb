{
 "cells": [
  {
   "cell_type": "code",
   "execution_count": 1,
   "id": "973219f3",
   "metadata": {},
   "outputs": [],
   "source": [
    "import os\n",
    "\n",
    "if not os.path.exists(\"output\"):\n",
    "    os.makedirs(\"output\")"
   ]
  },
  {
   "cell_type": "code",
   "execution_count": 3,
   "id": "a3084c4c",
   "metadata": {},
   "outputs": [],
   "source": [
    "!gcc src/huffman.c -o output/huffman.o -Wall -Wextra"
   ]
  },
  {
   "cell_type": "code",
   "execution_count": 4,
   "id": "b367613e",
   "metadata": {},
   "outputs": [
    {
     "name": "stdout",
     "output_type": "stream",
     "text": [
      "Hoy es un dia soleado.\r\n",
      "Son las 3 de la tarde y todo lo que tengo es una reta y...\r\n",
      "...thiner.Total: 92\r\n"
     ]
    }
   ],
   "source": [
    "!./output/huffman.o samples/hola.txt"
   ]
  },
  {
   "cell_type": "code",
   "execution_count": null,
   "id": "a80da4d7",
   "metadata": {},
   "outputs": [],
   "source": []
  }
 ],
 "metadata": {
  "kernelspec": {
   "display_name": "Python 3 (ipykernel)",
   "language": "python",
   "name": "python3"
  },
  "language_info": {
   "codemirror_mode": {
    "name": "ipython",
    "version": 3
   },
   "file_extension": ".py",
   "mimetype": "text/x-python",
   "name": "python",
   "nbconvert_exporter": "python",
   "pygments_lexer": "ipython3",
   "version": "3.12.3"
  }
 },
 "nbformat": 4,
 "nbformat_minor": 5
}
