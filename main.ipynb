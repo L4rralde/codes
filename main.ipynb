{
 "cells": [
  {
   "cell_type": "markdown",
   "id": "a1b74013-db6f-4eb7-acbf-9c5ffe9919c3",
   "metadata": {},
   "source": [
    "# Huffman Code"
   ]
  },
  {
   "cell_type": "code",
   "execution_count": 6,
   "id": "428020a2-60e5-438f-bb9c-71972794ffe1",
   "metadata": {},
   "outputs": [],
   "source": [
    "import os\n",
    "import utils\n",
    "\n",
    "if not os.path.exists(\"output\"):\n",
    "    os.makedirs(\"output\")\n",
    "if not os.path.exists(\"tmp\"):\n",
    "    os.makedirs(\"tmp\")"
   ]
  },
  {
   "cell_type": "code",
   "execution_count": 7,
   "id": "f17e0677-c65c-4cc8-9f4d-790e995aa9d8",
   "metadata": {},
   "outputs": [],
   "source": [
    "#Build\n",
    "!gcc include/files/files.c include/pgm1/pgm1.c include/huffman/huffman.c src/compression.c -o output/compression.o -lm -Wall -Wextra"
   ]
  },
  {
   "cell_type": "markdown",
   "id": "5125da86-9ecc-489d-ad5b-13f1784e3b2b",
   "metadata": {},
   "source": [
    "## Example: Hola.txt"
   ]
  },
  {
   "cell_type": "code",
   "execution_count": 8,
   "id": "65822a0b-73b7-47c0-b6aa-66f2b2ef959f",
   "metadata": {},
   "outputs": [
    {
     "name": "stdout",
     "output_type": "stream",
     "text": [
      "Huffman codes file: tmp/code.txt\n",
      "Compressed file: zipped.bin\n",
      "Original size: 10 bytes\n",
      "New size: 4 bytes\n",
      "Average char length: 2.700000 bits\n",
      "Compression ratio: 2.500000\n"
     ]
    }
   ],
   "source": [
    "#Zipping\n",
    "!./output/compression.o samples/texts/hola.txt hola_unzip.txt"
   ]
  },
  {
   "cell_type": "code",
   "execution_count": 9,
   "id": "430bc3b6-e852-4611-8c5a-4f7e50738fa4",
   "metadata": {},
   "outputs": [
    {
     "name": "stdout",
     "output_type": "stream",
     "text": [
      "10001110111101000010100010000000\n"
     ]
    }
   ],
   "source": [
    "# Compressed message\n",
    "utils.read_file_bits(\"zipped.bin\")"
   ]
  },
  {
   "cell_type": "code",
   "execution_count": 10,
   "id": "af3a8bde-4b71-44c6-85e5-ff7e802da9af",
   "metadata": {},
   "outputs": [
    {
     "name": "stdout",
     "output_type": "stream",
     "text": [
      "' ' (32): 011\n",
      "'.' (46): 0100\n",
      "'e' (101): 00\n",
      "'h' (104): 10\n",
      "'r' (114): 0101\n",
      "'t' (116): 110\n",
      "'y' (121): 111\n"
     ]
    }
   ],
   "source": [
    "#Huffman code\n",
    "utils.read_huffman_code(\"tmp/code.txt\")"
   ]
  },
  {
   "cell_type": "code",
   "execution_count": null,
   "id": "c0ba3ce9-a627-4033-948c-d2e79d9c0d8f",
   "metadata": {},
   "outputs": [],
   "source": []
  }
 ],
 "metadata": {
  "kernelspec": {
   "display_name": "Python 3 (ipykernel)",
   "language": "python",
   "name": "python3"
  },
  "language_info": {
   "codemirror_mode": {
    "name": "ipython",
    "version": 3
   },
   "file_extension": ".py",
   "mimetype": "text/x-python",
   "name": "python",
   "nbconvert_exporter": "python",
   "pygments_lexer": "ipython3",
   "version": "3.12.7"
  }
 },
 "nbformat": 4,
 "nbformat_minor": 5
}
