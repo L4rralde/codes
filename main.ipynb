{
 "cells": [
  {
   "cell_type": "markdown",
   "id": "a1b74013-db6f-4eb7-acbf-9c5ffe9919c3",
   "metadata": {},
   "source": [
    "# Huffman Code"
   ]
  },
  {
   "cell_type": "code",
   "execution_count": 1,
   "id": "428020a2-60e5-438f-bb9c-71972794ffe1",
   "metadata": {},
   "outputs": [],
   "source": [
    "import os\n",
    "if not os.path.exists(\"output\"):\n",
    "    os.makedirs(\"output\")\n",
    "if not os.path.exists(\"tmp\"):\n",
    "    os.makedirs(\"output\")"
   ]
  },
  {
   "cell_type": "code",
   "execution_count": 2,
   "id": "f17e0677-c65c-4cc8-9f4d-790e995aa9d8",
   "metadata": {},
   "outputs": [],
   "source": [
    "#Build\n",
    "!gcc include/files/files.c include/pgm1/pgm1.c include/huffman/huffman.c src/compression.c -o output/compression.o -lm -Wall -Wextra"
   ]
  },
  {
   "cell_type": "markdown",
   "id": "5125da86-9ecc-489d-ad5b-13f1784e3b2b",
   "metadata": {},
   "source": [
    "## Example: Hola.txt"
   ]
  },
  {
   "cell_type": "code",
   "execution_count": 7,
   "id": "65822a0b-73b7-47c0-b6aa-66f2b2ef959f",
   "metadata": {},
   "outputs": [
    {
     "name": "stdout",
     "output_type": "stream",
     "text": [
      "Huffman codes file: tmp/code.txt\n",
      "Compressed file: zipped.bin\n",
      "Original size: 11 bytes\n",
      "New size: 4 bytes\n",
      "Average char length: 2.909091 bits\n",
      "Compression ratio: 2.750000\n"
     ]
    }
   ],
   "source": [
    "#Zipping\n",
    "!./output/compression.o samples/texts/hola.txt hola_unzip.txt"
   ]
  },
  {
   "cell_type": "code",
   "execution_count": 8,
   "id": "bbec2c7a-86d0-4561-9b7b-5c0de218dfbb",
   "metadata": {},
   "outputs": [
    {
     "name": "stdout",
     "output_type": "stream",
     "text": [
      "00001001111111000100000110101100\n"
     ]
    }
   ],
   "source": [
    "with open(\"zipped.bin\", 'rb') as f:\n",
    "    msg = []\n",
    "    while 1:\n",
    "        byte_s = f.read(1)\n",
    "        if not byte_s:\n",
    "            break\n",
    "        byte = byte_s[0]\n",
    "        msg.append(f\"{byte:08b}\")\n",
    "print(\"\".join(msg))"
   ]
  },
  {
   "cell_type": "code",
   "execution_count": 9,
   "id": "08cb0e48-b99b-4d51-a0e0-7ff2cf2ead99",
   "metadata": {},
   "outputs": [
    {
     "name": "stdout",
     "output_type": "stream",
     "text": [
      "' ' (32): 110\n",
      "',' (44): 111\n",
      "'.' (46): 100\n",
      "'e' (101): 01\n",
      "'h' (104): 000\n",
      "'r' (114): 101\n",
      "'t' (116): 0010\n",
      "'y' (121): 0011\n"
     ]
    }
   ],
   "source": [
    "codes = !cat tmp/code.txt\n",
    "for i, code in enumerate(codes):\n",
    "    if not code:\n",
    "        continue\n",
    "    print(f\"'{chr(i)}' ({i}): {code}\")"
   ]
  },
  {
   "cell_type": "code",
   "execution_count": null,
   "id": "ee6488d6-8b20-4bfd-997b-2b5413bfe21a",
   "metadata": {},
   "outputs": [],
   "source": []
  }
 ],
 "metadata": {
  "kernelspec": {
   "display_name": "Python 3 (ipykernel)",
   "language": "python",
   "name": "python3"
  },
  "language_info": {
   "codemirror_mode": {
    "name": "ipython",
    "version": 3
   },
   "file_extension": ".py",
   "mimetype": "text/x-python",
   "name": "python",
   "nbconvert_exporter": "python",
   "pygments_lexer": "ipython3",
   "version": "3.12.7"
  }
 },
 "nbformat": 4,
 "nbformat_minor": 5
}
